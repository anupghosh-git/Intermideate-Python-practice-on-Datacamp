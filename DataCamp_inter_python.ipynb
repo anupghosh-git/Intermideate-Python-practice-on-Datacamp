{
 "cells": [
  {
   "cell_type": "markdown",
   "id": "9aea7e4b",
   "metadata": {},
   "source": [
    "# Intermediate Python\n",
    "\n",
    "- Numpy,Pandas, List, Control Flow statement, Function, Conditional Operators, Boolean operators, Random Number, For Loop, While Loop,  "
   ]
  },
  {
   "cell_type": "code",
   "execution_count": 1,
   "id": "676624f9",
   "metadata": {
    "ExecuteTime": {
     "end_time": "2022-04-08T16:58:17.313113Z",
     "start_time": "2022-04-08T16:58:16.854667Z"
    }
   },
   "outputs": [],
   "source": [
    "import pandas as pd\n",
    "import numpy as np\n"
   ]
  },
  {
   "cell_type": "code",
   "execution_count": 2,
   "id": "8f0617b5",
   "metadata": {
    "ExecuteTime": {
     "end_time": "2022-04-08T16:58:17.320148Z",
     "start_time": "2022-04-08T16:58:17.315125Z"
    }
   },
   "outputs": [],
   "source": [
    "names = ['United States', 'Australia', 'Japan', 'India', 'Russia', 'Morocco', 'Egypt']\n",
    "dr =  [True, False, False, False, True, True, True]\n",
    "cpc = [809, 731, 588, 18, 200, 70, 45]"
   ]
  },
  {
   "cell_type": "code",
   "execution_count": 3,
   "id": "04cafe79",
   "metadata": {
    "ExecuteTime": {
     "end_time": "2022-04-08T16:58:17.340183Z",
     "start_time": "2022-04-08T16:58:17.324278Z"
    }
   },
   "outputs": [
    {
     "data": {
      "text/plain": [
       "['United States', 'Australia', 'Japan', 'India', 'Russia', 'Morocco', 'Egypt']"
      ]
     },
     "execution_count": 3,
     "metadata": {},
     "output_type": "execute_result"
    }
   ],
   "source": [
    "names"
   ]
  },
  {
   "cell_type": "code",
   "execution_count": 4,
   "id": "733c1389",
   "metadata": {
    "ExecuteTime": {
     "end_time": "2022-04-08T16:58:17.352601Z",
     "start_time": "2022-04-08T16:58:17.346691Z"
    }
   },
   "outputs": [
    {
     "data": {
      "text/plain": [
       "[True, False, False, False, True, True, True]"
      ]
     },
     "execution_count": 4,
     "metadata": {},
     "output_type": "execute_result"
    }
   ],
   "source": [
    "dr"
   ]
  },
  {
   "cell_type": "code",
   "execution_count": 5,
   "id": "6d93dfaa",
   "metadata": {
    "ExecuteTime": {
     "end_time": "2022-04-08T16:58:17.361728Z",
     "start_time": "2022-04-08T16:58:17.355678Z"
    }
   },
   "outputs": [
    {
     "data": {
      "text/plain": [
       "[809, 731, 588, 18, 200, 70, 45]"
      ]
     },
     "execution_count": 5,
     "metadata": {},
     "output_type": "execute_result"
    }
   ],
   "source": [
    "cpc"
   ]
  },
  {
   "cell_type": "code",
   "execution_count": 6,
   "id": "81f2aa08",
   "metadata": {
    "ExecuteTime": {
     "end_time": "2022-04-08T16:58:17.371339Z",
     "start_time": "2022-04-08T16:58:17.364865Z"
    }
   },
   "outputs": [],
   "source": [
    "#reference: https://pandas.pydata.org/docs/reference/api/pandas.DataFrame.from_dict.html\n",
    "my_dict = {'Country': names,\n",
    "          'dr' : dr,\n",
    "          'cpc' : cpc}"
   ]
  },
  {
   "cell_type": "code",
   "execution_count": 7,
   "id": "92291230",
   "metadata": {
    "ExecuteTime": {
     "end_time": "2022-04-08T16:58:17.382603Z",
     "start_time": "2022-04-08T16:58:17.375674Z"
    }
   },
   "outputs": [
    {
     "data": {
      "text/plain": [
       "{'Country': ['United States',\n",
       "  'Australia',\n",
       "  'Japan',\n",
       "  'India',\n",
       "  'Russia',\n",
       "  'Morocco',\n",
       "  'Egypt'],\n",
       " 'dr': [True, False, False, False, True, True, True],\n",
       " 'cpc': [809, 731, 588, 18, 200, 70, 45]}"
      ]
     },
     "execution_count": 7,
     "metadata": {},
     "output_type": "execute_result"
    }
   ],
   "source": [
    "my_dict"
   ]
  },
  {
   "cell_type": "code",
   "execution_count": 8,
   "id": "46de062f",
   "metadata": {
    "ExecuteTime": {
     "end_time": "2022-04-08T16:58:17.390424Z",
     "start_time": "2022-04-08T16:58:17.385839Z"
    }
   },
   "outputs": [],
   "source": [
    "#create data frame from data dictionary\n",
    "df_cars = pd.DataFrame(my_dict)"
   ]
  },
  {
   "cell_type": "code",
   "execution_count": null,
   "id": "1d5f6996",
   "metadata": {},
   "outputs": [],
   "source": []
  },
  {
   "cell_type": "code",
   "execution_count": 9,
   "id": "ed55ec50",
   "metadata": {
    "ExecuteTime": {
     "end_time": "2022-04-08T16:58:17.411110Z",
     "start_time": "2022-04-08T16:58:17.394522Z"
    }
   },
   "outputs": [
    {
     "data": {
      "text/html": [
       "<div>\n",
       "<style scoped>\n",
       "    .dataframe tbody tr th:only-of-type {\n",
       "        vertical-align: middle;\n",
       "    }\n",
       "\n",
       "    .dataframe tbody tr th {\n",
       "        vertical-align: top;\n",
       "    }\n",
       "\n",
       "    .dataframe thead th {\n",
       "        text-align: right;\n",
       "    }\n",
       "</style>\n",
       "<table border=\"1\" class=\"dataframe\">\n",
       "  <thead>\n",
       "    <tr style=\"text-align: right;\">\n",
       "      <th></th>\n",
       "      <th>Country</th>\n",
       "      <th>dr</th>\n",
       "      <th>cpc</th>\n",
       "    </tr>\n",
       "  </thead>\n",
       "  <tbody>\n",
       "    <tr>\n",
       "      <th>0</th>\n",
       "      <td>United States</td>\n",
       "      <td>True</td>\n",
       "      <td>809</td>\n",
       "    </tr>\n",
       "    <tr>\n",
       "      <th>1</th>\n",
       "      <td>Australia</td>\n",
       "      <td>False</td>\n",
       "      <td>731</td>\n",
       "    </tr>\n",
       "    <tr>\n",
       "      <th>2</th>\n",
       "      <td>Japan</td>\n",
       "      <td>False</td>\n",
       "      <td>588</td>\n",
       "    </tr>\n",
       "    <tr>\n",
       "      <th>3</th>\n",
       "      <td>India</td>\n",
       "      <td>False</td>\n",
       "      <td>18</td>\n",
       "    </tr>\n",
       "    <tr>\n",
       "      <th>4</th>\n",
       "      <td>Russia</td>\n",
       "      <td>True</td>\n",
       "      <td>200</td>\n",
       "    </tr>\n",
       "    <tr>\n",
       "      <th>5</th>\n",
       "      <td>Morocco</td>\n",
       "      <td>True</td>\n",
       "      <td>70</td>\n",
       "    </tr>\n",
       "    <tr>\n",
       "      <th>6</th>\n",
       "      <td>Egypt</td>\n",
       "      <td>True</td>\n",
       "      <td>45</td>\n",
       "    </tr>\n",
       "  </tbody>\n",
       "</table>\n",
       "</div>"
      ],
      "text/plain": [
       "         Country     dr  cpc\n",
       "0  United States   True  809\n",
       "1      Australia  False  731\n",
       "2          Japan  False  588\n",
       "3          India  False   18\n",
       "4         Russia   True  200\n",
       "5        Morocco   True   70\n",
       "6          Egypt   True   45"
      ]
     },
     "execution_count": 9,
     "metadata": {},
     "output_type": "execute_result"
    }
   ],
   "source": [
    "df_cars"
   ]
  },
  {
   "cell_type": "code",
   "execution_count": 10,
   "id": "21199b64",
   "metadata": {
    "ExecuteTime": {
     "end_time": "2022-04-08T16:58:17.421016Z",
     "start_time": "2022-04-08T16:58:17.416371Z"
    }
   },
   "outputs": [],
   "source": [
    "row_labels = ['US', 'AUS', 'JPN', 'IN', 'RU', 'MOR', 'EG']"
   ]
  },
  {
   "cell_type": "code",
   "execution_count": 11,
   "id": "b2d28e3e",
   "metadata": {
    "ExecuteTime": {
     "end_time": "2022-04-08T16:58:17.432918Z",
     "start_time": "2022-04-08T16:58:17.427219Z"
    }
   },
   "outputs": [],
   "source": [
    "df_cars.index = row_labels"
   ]
  },
  {
   "cell_type": "code",
   "execution_count": 12,
   "id": "453d1550",
   "metadata": {
    "ExecuteTime": {
     "end_time": "2022-04-08T16:58:17.451448Z",
     "start_time": "2022-04-08T16:58:17.437036Z"
    }
   },
   "outputs": [
    {
     "data": {
      "text/html": [
       "<div>\n",
       "<style scoped>\n",
       "    .dataframe tbody tr th:only-of-type {\n",
       "        vertical-align: middle;\n",
       "    }\n",
       "\n",
       "    .dataframe tbody tr th {\n",
       "        vertical-align: top;\n",
       "    }\n",
       "\n",
       "    .dataframe thead th {\n",
       "        text-align: right;\n",
       "    }\n",
       "</style>\n",
       "<table border=\"1\" class=\"dataframe\">\n",
       "  <thead>\n",
       "    <tr style=\"text-align: right;\">\n",
       "      <th></th>\n",
       "      <th>Country</th>\n",
       "      <th>dr</th>\n",
       "      <th>cpc</th>\n",
       "    </tr>\n",
       "  </thead>\n",
       "  <tbody>\n",
       "    <tr>\n",
       "      <th>US</th>\n",
       "      <td>United States</td>\n",
       "      <td>True</td>\n",
       "      <td>809</td>\n",
       "    </tr>\n",
       "    <tr>\n",
       "      <th>AUS</th>\n",
       "      <td>Australia</td>\n",
       "      <td>False</td>\n",
       "      <td>731</td>\n",
       "    </tr>\n",
       "    <tr>\n",
       "      <th>JPN</th>\n",
       "      <td>Japan</td>\n",
       "      <td>False</td>\n",
       "      <td>588</td>\n",
       "    </tr>\n",
       "    <tr>\n",
       "      <th>IN</th>\n",
       "      <td>India</td>\n",
       "      <td>False</td>\n",
       "      <td>18</td>\n",
       "    </tr>\n",
       "    <tr>\n",
       "      <th>RU</th>\n",
       "      <td>Russia</td>\n",
       "      <td>True</td>\n",
       "      <td>200</td>\n",
       "    </tr>\n",
       "    <tr>\n",
       "      <th>MOR</th>\n",
       "      <td>Morocco</td>\n",
       "      <td>True</td>\n",
       "      <td>70</td>\n",
       "    </tr>\n",
       "    <tr>\n",
       "      <th>EG</th>\n",
       "      <td>Egypt</td>\n",
       "      <td>True</td>\n",
       "      <td>45</td>\n",
       "    </tr>\n",
       "  </tbody>\n",
       "</table>\n",
       "</div>"
      ],
      "text/plain": [
       "           Country     dr  cpc\n",
       "US   United States   True  809\n",
       "AUS      Australia  False  731\n",
       "JPN          Japan  False  588\n",
       "IN           India  False   18\n",
       "RU          Russia   True  200\n",
       "MOR        Morocco   True   70\n",
       "EG           Egypt   True   45"
      ]
     },
     "execution_count": 12,
     "metadata": {},
     "output_type": "execute_result"
    }
   ],
   "source": [
    "df_cars"
   ]
  },
  {
   "cell_type": "code",
   "execution_count": 13,
   "id": "1d8262b8",
   "metadata": {
    "ExecuteTime": {
     "end_time": "2022-04-08T16:58:17.465383Z",
     "start_time": "2022-04-08T16:58:17.456175Z"
    }
   },
   "outputs": [],
   "source": [
    "#reference: https://pandas.pydata.org/docs/reference/api/pandas.DataFrame.to_csv.html\n",
    "df_cars.to_csv('cars.csv')"
   ]
  },
  {
   "cell_type": "code",
   "execution_count": 14,
   "id": "d72ecdeb",
   "metadata": {
    "ExecuteTime": {
     "end_time": "2022-04-08T16:58:17.477289Z",
     "start_time": "2022-04-08T16:58:17.468544Z"
    }
   },
   "outputs": [],
   "source": [
    "df = pd.read_csv('cars.csv')"
   ]
  },
  {
   "cell_type": "code",
   "execution_count": 15,
   "id": "cfa954ca",
   "metadata": {
    "ExecuteTime": {
     "end_time": "2022-04-08T16:58:17.494329Z",
     "start_time": "2022-04-08T16:58:17.480109Z"
    }
   },
   "outputs": [
    {
     "data": {
      "text/html": [
       "<div>\n",
       "<style scoped>\n",
       "    .dataframe tbody tr th:only-of-type {\n",
       "        vertical-align: middle;\n",
       "    }\n",
       "\n",
       "    .dataframe tbody tr th {\n",
       "        vertical-align: top;\n",
       "    }\n",
       "\n",
       "    .dataframe thead th {\n",
       "        text-align: right;\n",
       "    }\n",
       "</style>\n",
       "<table border=\"1\" class=\"dataframe\">\n",
       "  <thead>\n",
       "    <tr style=\"text-align: right;\">\n",
       "      <th></th>\n",
       "      <th>Unnamed: 0</th>\n",
       "      <th>Country</th>\n",
       "      <th>dr</th>\n",
       "      <th>cpc</th>\n",
       "    </tr>\n",
       "  </thead>\n",
       "  <tbody>\n",
       "    <tr>\n",
       "      <th>0</th>\n",
       "      <td>US</td>\n",
       "      <td>United States</td>\n",
       "      <td>True</td>\n",
       "      <td>809</td>\n",
       "    </tr>\n",
       "    <tr>\n",
       "      <th>1</th>\n",
       "      <td>AUS</td>\n",
       "      <td>Australia</td>\n",
       "      <td>False</td>\n",
       "      <td>731</td>\n",
       "    </tr>\n",
       "    <tr>\n",
       "      <th>2</th>\n",
       "      <td>JPN</td>\n",
       "      <td>Japan</td>\n",
       "      <td>False</td>\n",
       "      <td>588</td>\n",
       "    </tr>\n",
       "    <tr>\n",
       "      <th>3</th>\n",
       "      <td>IN</td>\n",
       "      <td>India</td>\n",
       "      <td>False</td>\n",
       "      <td>18</td>\n",
       "    </tr>\n",
       "    <tr>\n",
       "      <th>4</th>\n",
       "      <td>RU</td>\n",
       "      <td>Russia</td>\n",
       "      <td>True</td>\n",
       "      <td>200</td>\n",
       "    </tr>\n",
       "    <tr>\n",
       "      <th>5</th>\n",
       "      <td>MOR</td>\n",
       "      <td>Morocco</td>\n",
       "      <td>True</td>\n",
       "      <td>70</td>\n",
       "    </tr>\n",
       "    <tr>\n",
       "      <th>6</th>\n",
       "      <td>EG</td>\n",
       "      <td>Egypt</td>\n",
       "      <td>True</td>\n",
       "      <td>45</td>\n",
       "    </tr>\n",
       "  </tbody>\n",
       "</table>\n",
       "</div>"
      ],
      "text/plain": [
       "  Unnamed: 0        Country     dr  cpc\n",
       "0         US  United States   True  809\n",
       "1        AUS      Australia  False  731\n",
       "2        JPN          Japan  False  588\n",
       "3         IN          India  False   18\n",
       "4         RU         Russia   True  200\n",
       "5        MOR        Morocco   True   70\n",
       "6         EG          Egypt   True   45"
      ]
     },
     "execution_count": 15,
     "metadata": {},
     "output_type": "execute_result"
    }
   ],
   "source": [
    "df"
   ]
  },
  {
   "cell_type": "code",
   "execution_count": 16,
   "id": "ab52bb5a",
   "metadata": {
    "ExecuteTime": {
     "end_time": "2022-04-08T16:58:17.507369Z",
     "start_time": "2022-04-08T16:58:17.498020Z"
    }
   },
   "outputs": [],
   "source": [
    "df = pd.read_csv('cars.csv', index_col = 0)"
   ]
  },
  {
   "cell_type": "code",
   "execution_count": 17,
   "id": "20aad5ba",
   "metadata": {
    "ExecuteTime": {
     "end_time": "2022-04-08T16:58:17.522301Z",
     "start_time": "2022-04-08T16:58:17.511064Z"
    }
   },
   "outputs": [
    {
     "data": {
      "text/html": [
       "<div>\n",
       "<style scoped>\n",
       "    .dataframe tbody tr th:only-of-type {\n",
       "        vertical-align: middle;\n",
       "    }\n",
       "\n",
       "    .dataframe tbody tr th {\n",
       "        vertical-align: top;\n",
       "    }\n",
       "\n",
       "    .dataframe thead th {\n",
       "        text-align: right;\n",
       "    }\n",
       "</style>\n",
       "<table border=\"1\" class=\"dataframe\">\n",
       "  <thead>\n",
       "    <tr style=\"text-align: right;\">\n",
       "      <th></th>\n",
       "      <th>Country</th>\n",
       "      <th>dr</th>\n",
       "      <th>cpc</th>\n",
       "    </tr>\n",
       "  </thead>\n",
       "  <tbody>\n",
       "    <tr>\n",
       "      <th>US</th>\n",
       "      <td>United States</td>\n",
       "      <td>True</td>\n",
       "      <td>809</td>\n",
       "    </tr>\n",
       "    <tr>\n",
       "      <th>AUS</th>\n",
       "      <td>Australia</td>\n",
       "      <td>False</td>\n",
       "      <td>731</td>\n",
       "    </tr>\n",
       "    <tr>\n",
       "      <th>JPN</th>\n",
       "      <td>Japan</td>\n",
       "      <td>False</td>\n",
       "      <td>588</td>\n",
       "    </tr>\n",
       "    <tr>\n",
       "      <th>IN</th>\n",
       "      <td>India</td>\n",
       "      <td>False</td>\n",
       "      <td>18</td>\n",
       "    </tr>\n",
       "    <tr>\n",
       "      <th>RU</th>\n",
       "      <td>Russia</td>\n",
       "      <td>True</td>\n",
       "      <td>200</td>\n",
       "    </tr>\n",
       "    <tr>\n",
       "      <th>MOR</th>\n",
       "      <td>Morocco</td>\n",
       "      <td>True</td>\n",
       "      <td>70</td>\n",
       "    </tr>\n",
       "    <tr>\n",
       "      <th>EG</th>\n",
       "      <td>Egypt</td>\n",
       "      <td>True</td>\n",
       "      <td>45</td>\n",
       "    </tr>\n",
       "  </tbody>\n",
       "</table>\n",
       "</div>"
      ],
      "text/plain": [
       "           Country     dr  cpc\n",
       "US   United States   True  809\n",
       "AUS      Australia  False  731\n",
       "JPN          Japan  False  588\n",
       "IN           India  False   18\n",
       "RU          Russia   True  200\n",
       "MOR        Morocco   True   70\n",
       "EG           Egypt   True   45"
      ]
     },
     "execution_count": 17,
     "metadata": {},
     "output_type": "execute_result"
    }
   ],
   "source": [
    "df"
   ]
  },
  {
   "cell_type": "markdown",
   "id": "b8e219de",
   "metadata": {},
   "source": [
    "## Indexing and Selecting data from dataframe"
   ]
  },
  {
   "cell_type": "code",
   "execution_count": 18,
   "id": "2bb360f0",
   "metadata": {
    "ExecuteTime": {
     "end_time": "2022-04-08T16:58:17.541641Z",
     "start_time": "2022-04-08T16:58:17.526705Z"
    }
   },
   "outputs": [
    {
     "data": {
      "text/html": [
       "<div>\n",
       "<style scoped>\n",
       "    .dataframe tbody tr th:only-of-type {\n",
       "        vertical-align: middle;\n",
       "    }\n",
       "\n",
       "    .dataframe tbody tr th {\n",
       "        vertical-align: top;\n",
       "    }\n",
       "\n",
       "    .dataframe thead th {\n",
       "        text-align: right;\n",
       "    }\n",
       "</style>\n",
       "<table border=\"1\" class=\"dataframe\">\n",
       "  <thead>\n",
       "    <tr style=\"text-align: right;\">\n",
       "      <th></th>\n",
       "      <th>Country</th>\n",
       "      <th>dr</th>\n",
       "      <th>cpc</th>\n",
       "    </tr>\n",
       "  </thead>\n",
       "  <tbody>\n",
       "    <tr>\n",
       "      <th>US</th>\n",
       "      <td>United States</td>\n",
       "      <td>True</td>\n",
       "      <td>809</td>\n",
       "    </tr>\n",
       "    <tr>\n",
       "      <th>AUS</th>\n",
       "      <td>Australia</td>\n",
       "      <td>False</td>\n",
       "      <td>731</td>\n",
       "    </tr>\n",
       "    <tr>\n",
       "      <th>JPN</th>\n",
       "      <td>Japan</td>\n",
       "      <td>False</td>\n",
       "      <td>588</td>\n",
       "    </tr>\n",
       "    <tr>\n",
       "      <th>IN</th>\n",
       "      <td>India</td>\n",
       "      <td>False</td>\n",
       "      <td>18</td>\n",
       "    </tr>\n",
       "    <tr>\n",
       "      <th>RU</th>\n",
       "      <td>Russia</td>\n",
       "      <td>True</td>\n",
       "      <td>200</td>\n",
       "    </tr>\n",
       "    <tr>\n",
       "      <th>MOR</th>\n",
       "      <td>Morocco</td>\n",
       "      <td>True</td>\n",
       "      <td>70</td>\n",
       "    </tr>\n",
       "    <tr>\n",
       "      <th>EG</th>\n",
       "      <td>Egypt</td>\n",
       "      <td>True</td>\n",
       "      <td>45</td>\n",
       "    </tr>\n",
       "  </tbody>\n",
       "</table>\n",
       "</div>"
      ],
      "text/plain": [
       "           Country     dr  cpc\n",
       "US   United States   True  809\n",
       "AUS      Australia  False  731\n",
       "JPN          Japan  False  588\n",
       "IN           India  False   18\n",
       "RU          Russia   True  200\n",
       "MOR        Morocco   True   70\n",
       "EG           Egypt   True   45"
      ]
     },
     "execution_count": 18,
     "metadata": {},
     "output_type": "execute_result"
    }
   ],
   "source": [
    "df"
   ]
  },
  {
   "cell_type": "code",
   "execution_count": 19,
   "id": "7e2352a2",
   "metadata": {
    "ExecuteTime": {
     "end_time": "2022-04-08T16:58:17.552780Z",
     "start_time": "2022-04-08T16:58:17.546282Z"
    }
   },
   "outputs": [
    {
     "data": {
      "text/plain": [
       "US     United States\n",
       "AUS        Australia\n",
       "JPN            Japan\n",
       "IN             India\n",
       "RU            Russia\n",
       "MOR          Morocco\n",
       "EG             Egypt\n",
       "Name: Country, dtype: object"
      ]
     },
     "execution_count": 19,
     "metadata": {},
     "output_type": "execute_result"
    }
   ],
   "source": [
    "df['Country']"
   ]
  },
  {
   "cell_type": "code",
   "execution_count": 20,
   "id": "f4b17b22",
   "metadata": {
    "ExecuteTime": {
     "end_time": "2022-04-08T16:58:17.562697Z",
     "start_time": "2022-04-08T16:58:17.555860Z"
    }
   },
   "outputs": [
    {
     "data": {
      "text/plain": [
       "pandas.core.series.Series"
      ]
     },
     "execution_count": 20,
     "metadata": {},
     "output_type": "execute_result"
    }
   ],
   "source": [
    "type(df['Country'])"
   ]
  },
  {
   "cell_type": "code",
   "execution_count": 21,
   "id": "c5dbc3d4",
   "metadata": {
    "ExecuteTime": {
     "end_time": "2022-04-08T16:58:17.578028Z",
     "start_time": "2022-04-08T16:58:17.567231Z"
    }
   },
   "outputs": [
    {
     "data": {
      "text/html": [
       "<div>\n",
       "<style scoped>\n",
       "    .dataframe tbody tr th:only-of-type {\n",
       "        vertical-align: middle;\n",
       "    }\n",
       "\n",
       "    .dataframe tbody tr th {\n",
       "        vertical-align: top;\n",
       "    }\n",
       "\n",
       "    .dataframe thead th {\n",
       "        text-align: right;\n",
       "    }\n",
       "</style>\n",
       "<table border=\"1\" class=\"dataframe\">\n",
       "  <thead>\n",
       "    <tr style=\"text-align: right;\">\n",
       "      <th></th>\n",
       "      <th>Country</th>\n",
       "    </tr>\n",
       "  </thead>\n",
       "  <tbody>\n",
       "    <tr>\n",
       "      <th>US</th>\n",
       "      <td>United States</td>\n",
       "    </tr>\n",
       "    <tr>\n",
       "      <th>AUS</th>\n",
       "      <td>Australia</td>\n",
       "    </tr>\n",
       "    <tr>\n",
       "      <th>JPN</th>\n",
       "      <td>Japan</td>\n",
       "    </tr>\n",
       "    <tr>\n",
       "      <th>IN</th>\n",
       "      <td>India</td>\n",
       "    </tr>\n",
       "    <tr>\n",
       "      <th>RU</th>\n",
       "      <td>Russia</td>\n",
       "    </tr>\n",
       "    <tr>\n",
       "      <th>MOR</th>\n",
       "      <td>Morocco</td>\n",
       "    </tr>\n",
       "    <tr>\n",
       "      <th>EG</th>\n",
       "      <td>Egypt</td>\n",
       "    </tr>\n",
       "  </tbody>\n",
       "</table>\n",
       "</div>"
      ],
      "text/plain": [
       "           Country\n",
       "US   United States\n",
       "AUS      Australia\n",
       "JPN          Japan\n",
       "IN           India\n",
       "RU          Russia\n",
       "MOR        Morocco\n",
       "EG           Egypt"
      ]
     },
     "execution_count": 21,
     "metadata": {},
     "output_type": "execute_result"
    }
   ],
   "source": [
    "df[['Country']]"
   ]
  },
  {
   "cell_type": "code",
   "execution_count": 22,
   "id": "bab0bcbd",
   "metadata": {
    "ExecuteTime": {
     "end_time": "2022-04-08T16:58:17.589366Z",
     "start_time": "2022-04-08T16:58:17.581598Z"
    }
   },
   "outputs": [
    {
     "data": {
      "text/plain": [
       "pandas.core.frame.DataFrame"
      ]
     },
     "execution_count": 22,
     "metadata": {},
     "output_type": "execute_result"
    }
   ],
   "source": [
    "type(df[['Country']])"
   ]
  },
  {
   "cell_type": "code",
   "execution_count": 23,
   "id": "cd8dfcc0",
   "metadata": {
    "ExecuteTime": {
     "end_time": "2022-04-08T16:58:17.601988Z",
     "start_time": "2022-04-08T16:58:17.593131Z"
    }
   },
   "outputs": [
    {
     "name": "stdout",
     "output_type": "stream",
     "text": [
      "           Country     dr\n",
      "US   United States   True\n",
      "AUS      Australia  False\n",
      "JPN          Japan  False\n",
      "IN           India  False\n",
      "RU          Russia   True\n",
      "MOR        Morocco   True\n",
      "EG           Egypt   True\n"
     ]
    }
   ],
   "source": [
    "print(df[['Country','dr']])"
   ]
  },
  {
   "cell_type": "code",
   "execution_count": 24,
   "id": "e45a7ed3",
   "metadata": {
    "ExecuteTime": {
     "end_time": "2022-04-08T16:58:17.614693Z",
     "start_time": "2022-04-08T16:58:17.605245Z"
    }
   },
   "outputs": [
    {
     "data": {
      "text/html": [
       "<div>\n",
       "<style scoped>\n",
       "    .dataframe tbody tr th:only-of-type {\n",
       "        vertical-align: middle;\n",
       "    }\n",
       "\n",
       "    .dataframe tbody tr th {\n",
       "        vertical-align: top;\n",
       "    }\n",
       "\n",
       "    .dataframe thead th {\n",
       "        text-align: right;\n",
       "    }\n",
       "</style>\n",
       "<table border=\"1\" class=\"dataframe\">\n",
       "  <thead>\n",
       "    <tr style=\"text-align: right;\">\n",
       "      <th></th>\n",
       "      <th>Country</th>\n",
       "      <th>dr</th>\n",
       "      <th>cpc</th>\n",
       "    </tr>\n",
       "  </thead>\n",
       "  <tbody>\n",
       "    <tr>\n",
       "      <th>US</th>\n",
       "      <td>United States</td>\n",
       "      <td>True</td>\n",
       "      <td>809</td>\n",
       "    </tr>\n",
       "    <tr>\n",
       "      <th>AUS</th>\n",
       "      <td>Australia</td>\n",
       "      <td>False</td>\n",
       "      <td>731</td>\n",
       "    </tr>\n",
       "    <tr>\n",
       "      <th>JPN</th>\n",
       "      <td>Japan</td>\n",
       "      <td>False</td>\n",
       "      <td>588</td>\n",
       "    </tr>\n",
       "  </tbody>\n",
       "</table>\n",
       "</div>"
      ],
      "text/plain": [
       "           Country     dr  cpc\n",
       "US   United States   True  809\n",
       "AUS      Australia  False  731\n",
       "JPN          Japan  False  588"
      ]
     },
     "execution_count": 24,
     "metadata": {},
     "output_type": "execute_result"
    }
   ],
   "source": [
    "#first 3 observations\n",
    "df[0:3]"
   ]
  },
  {
   "cell_type": "code",
   "execution_count": 25,
   "id": "13d7cf7b",
   "metadata": {
    "ExecuteTime": {
     "end_time": "2022-04-08T16:58:17.630373Z",
     "start_time": "2022-04-08T16:58:17.619144Z"
    }
   },
   "outputs": [
    {
     "data": {
      "text/html": [
       "<div>\n",
       "<style scoped>\n",
       "    .dataframe tbody tr th:only-of-type {\n",
       "        vertical-align: middle;\n",
       "    }\n",
       "\n",
       "    .dataframe tbody tr th {\n",
       "        vertical-align: top;\n",
       "    }\n",
       "\n",
       "    .dataframe thead th {\n",
       "        text-align: right;\n",
       "    }\n",
       "</style>\n",
       "<table border=\"1\" class=\"dataframe\">\n",
       "  <thead>\n",
       "    <tr style=\"text-align: right;\">\n",
       "      <th></th>\n",
       "      <th>Country</th>\n",
       "      <th>dr</th>\n",
       "      <th>cpc</th>\n",
       "    </tr>\n",
       "  </thead>\n",
       "  <tbody>\n",
       "    <tr>\n",
       "      <th>IN</th>\n",
       "      <td>India</td>\n",
       "      <td>False</td>\n",
       "      <td>18</td>\n",
       "    </tr>\n",
       "    <tr>\n",
       "      <th>RU</th>\n",
       "      <td>Russia</td>\n",
       "      <td>True</td>\n",
       "      <td>200</td>\n",
       "    </tr>\n",
       "    <tr>\n",
       "      <th>MOR</th>\n",
       "      <td>Morocco</td>\n",
       "      <td>True</td>\n",
       "      <td>70</td>\n",
       "    </tr>\n",
       "  </tbody>\n",
       "</table>\n",
       "</div>"
      ],
      "text/plain": [
       "     Country     dr  cpc\n",
       "IN     India  False   18\n",
       "RU    Russia   True  200\n",
       "MOR  Morocco   True   70"
      ]
     },
     "execution_count": 25,
     "metadata": {},
     "output_type": "execute_result"
    }
   ],
   "source": [
    "#fourth,fifth and sixth observations\n",
    "df[3:6]"
   ]
  },
  {
   "cell_type": "code",
   "execution_count": 26,
   "id": "01d13a7f",
   "metadata": {
    "ExecuteTime": {
     "end_time": "2022-04-08T16:58:17.642248Z",
     "start_time": "2022-04-08T16:58:17.633518Z"
    }
   },
   "outputs": [
    {
     "data": {
      "text/plain": [
       "Country    Japan\n",
       "dr         False\n",
       "cpc          588\n",
       "Name: JPN, dtype: object"
      ]
     },
     "execution_count": 26,
     "metadata": {},
     "output_type": "execute_result"
    }
   ],
   "source": [
    "df.loc[\"JPN\"]"
   ]
  },
  {
   "cell_type": "code",
   "execution_count": 27,
   "id": "9c0d9083",
   "metadata": {
    "ExecuteTime": {
     "end_time": "2022-04-08T16:58:17.654789Z",
     "start_time": "2022-04-08T16:58:17.646323Z"
    }
   },
   "outputs": [
    {
     "data": {
      "text/plain": [
       "Country    Japan\n",
       "dr         False\n",
       "cpc          588\n",
       "Name: JPN, dtype: object"
      ]
     },
     "execution_count": 27,
     "metadata": {},
     "output_type": "execute_result"
    }
   ],
   "source": [
    "df.iloc[2]"
   ]
  },
  {
   "cell_type": "code",
   "execution_count": 28,
   "id": "95ab9de8",
   "metadata": {
    "ExecuteTime": {
     "end_time": "2022-04-08T16:58:17.675288Z",
     "start_time": "2022-04-08T16:58:17.666786Z"
    }
   },
   "outputs": [
    {
     "data": {
      "text/html": [
       "<div>\n",
       "<style scoped>\n",
       "    .dataframe tbody tr th:only-of-type {\n",
       "        vertical-align: middle;\n",
       "    }\n",
       "\n",
       "    .dataframe tbody tr th {\n",
       "        vertical-align: top;\n",
       "    }\n",
       "\n",
       "    .dataframe thead th {\n",
       "        text-align: right;\n",
       "    }\n",
       "</style>\n",
       "<table border=\"1\" class=\"dataframe\">\n",
       "  <thead>\n",
       "    <tr style=\"text-align: right;\">\n",
       "      <th></th>\n",
       "      <th>Country</th>\n",
       "      <th>dr</th>\n",
       "      <th>cpc</th>\n",
       "    </tr>\n",
       "  </thead>\n",
       "  <tbody>\n",
       "    <tr>\n",
       "      <th>AUS</th>\n",
       "      <td>Australia</td>\n",
       "      <td>False</td>\n",
       "      <td>731</td>\n",
       "    </tr>\n",
       "    <tr>\n",
       "      <th>EG</th>\n",
       "      <td>Egypt</td>\n",
       "      <td>True</td>\n",
       "      <td>45</td>\n",
       "    </tr>\n",
       "  </tbody>\n",
       "</table>\n",
       "</div>"
      ],
      "text/plain": [
       "       Country     dr  cpc\n",
       "AUS  Australia  False  731\n",
       "EG       Egypt   True   45"
      ]
     },
     "execution_count": 28,
     "metadata": {},
     "output_type": "execute_result"
    }
   ],
   "source": [
    "df.loc[['AUS','EG']]"
   ]
  },
  {
   "cell_type": "code",
   "execution_count": 29,
   "id": "125d471e",
   "metadata": {
    "ExecuteTime": {
     "end_time": "2022-04-08T16:58:17.686689Z",
     "start_time": "2022-04-08T16:58:17.677565Z"
    }
   },
   "outputs": [
    {
     "data": {
      "text/html": [
       "<div>\n",
       "<style scoped>\n",
       "    .dataframe tbody tr th:only-of-type {\n",
       "        vertical-align: middle;\n",
       "    }\n",
       "\n",
       "    .dataframe tbody tr th {\n",
       "        vertical-align: top;\n",
       "    }\n",
       "\n",
       "    .dataframe thead th {\n",
       "        text-align: right;\n",
       "    }\n",
       "</style>\n",
       "<table border=\"1\" class=\"dataframe\">\n",
       "  <thead>\n",
       "    <tr style=\"text-align: right;\">\n",
       "      <th></th>\n",
       "      <th>Country</th>\n",
       "      <th>dr</th>\n",
       "      <th>cpc</th>\n",
       "    </tr>\n",
       "  </thead>\n",
       "  <tbody>\n",
       "    <tr>\n",
       "      <th>AUS</th>\n",
       "      <td>Australia</td>\n",
       "      <td>False</td>\n",
       "      <td>731</td>\n",
       "    </tr>\n",
       "    <tr>\n",
       "      <th>EG</th>\n",
       "      <td>Egypt</td>\n",
       "      <td>True</td>\n",
       "      <td>45</td>\n",
       "    </tr>\n",
       "  </tbody>\n",
       "</table>\n",
       "</div>"
      ],
      "text/plain": [
       "       Country     dr  cpc\n",
       "AUS  Australia  False  731\n",
       "EG       Egypt   True   45"
      ]
     },
     "execution_count": 29,
     "metadata": {},
     "output_type": "execute_result"
    }
   ],
   "source": [
    "df.iloc[[1,6]]"
   ]
  },
  {
   "cell_type": "code",
   "execution_count": 30,
   "id": "2342a7f3",
   "metadata": {
    "ExecuteTime": {
     "end_time": "2022-04-08T16:58:17.702723Z",
     "start_time": "2022-04-08T16:58:17.689532Z"
    }
   },
   "outputs": [
    {
     "data": {
      "text/html": [
       "<div>\n",
       "<style scoped>\n",
       "    .dataframe tbody tr th:only-of-type {\n",
       "        vertical-align: middle;\n",
       "    }\n",
       "\n",
       "    .dataframe tbody tr th {\n",
       "        vertical-align: top;\n",
       "    }\n",
       "\n",
       "    .dataframe thead th {\n",
       "        text-align: right;\n",
       "    }\n",
       "</style>\n",
       "<table border=\"1\" class=\"dataframe\">\n",
       "  <thead>\n",
       "    <tr style=\"text-align: right;\">\n",
       "      <th></th>\n",
       "      <th>Country</th>\n",
       "      <th>dr</th>\n",
       "    </tr>\n",
       "  </thead>\n",
       "  <tbody>\n",
       "    <tr>\n",
       "      <th>RU</th>\n",
       "      <td>Russia</td>\n",
       "      <td>True</td>\n",
       "    </tr>\n",
       "    <tr>\n",
       "      <th>MOR</th>\n",
       "      <td>Morocco</td>\n",
       "      <td>True</td>\n",
       "    </tr>\n",
       "  </tbody>\n",
       "</table>\n",
       "</div>"
      ],
      "text/plain": [
       "     Country    dr\n",
       "RU    Russia  True\n",
       "MOR  Morocco  True"
      ]
     },
     "execution_count": 30,
     "metadata": {},
     "output_type": "execute_result"
    }
   ],
   "source": [
    "df.iloc[[4,5],[0,1]]"
   ]
  },
  {
   "cell_type": "markdown",
   "id": "a33956b4",
   "metadata": {},
   "source": [
    "## Comparison Operators\n",
    "\n",
    "- ==<br>\n",
    "- `>` <br>\n",
    "- `<` <br>\n",
    "- `>=` <br>\n",
    "- `<=` <br>\n",
    "- `!=` <br>\n",
    "- Boolean comparison <br>\n",
    "- Number Comparison <br>\n",
    "- string comparison <br>\n",
    "- inter and intra data type comparisons\n",
    "\n"
   ]
  },
  {
   "cell_type": "code",
   "execution_count": 31,
   "id": "c5f110a7",
   "metadata": {
    "ExecuteTime": {
     "end_time": "2022-04-08T16:58:17.714406Z",
     "start_time": "2022-04-08T16:58:17.706820Z"
    }
   },
   "outputs": [
    {
     "data": {
      "text/plain": [
       "True"
      ]
     },
     "execution_count": 31,
     "metadata": {},
     "output_type": "execute_result"
    }
   ],
   "source": [
    "True == True"
   ]
  },
  {
   "cell_type": "code",
   "execution_count": 32,
   "id": "b6415964",
   "metadata": {
    "ExecuteTime": {
     "end_time": "2022-04-08T16:58:17.727525Z",
     "start_time": "2022-04-08T16:58:17.720821Z"
    }
   },
   "outputs": [
    {
     "data": {
      "text/plain": [
       "False"
      ]
     },
     "execution_count": 32,
     "metadata": {},
     "output_type": "execute_result"
    }
   ],
   "source": [
    "True == False"
   ]
  },
  {
   "cell_type": "code",
   "execution_count": 33,
   "id": "5281cadc",
   "metadata": {
    "ExecuteTime": {
     "end_time": "2022-04-08T16:58:17.735976Z",
     "start_time": "2022-04-08T16:58:17.731176Z"
    }
   },
   "outputs": [
    {
     "data": {
      "text/plain": [
       "True"
      ]
     },
     "execution_count": 33,
     "metadata": {},
     "output_type": "execute_result"
    }
   ],
   "source": [
    "True == 1"
   ]
  },
  {
   "cell_type": "code",
   "execution_count": 34,
   "id": "1012c9d5",
   "metadata": {
    "ExecuteTime": {
     "end_time": "2022-04-08T16:58:17.745305Z",
     "start_time": "2022-04-08T16:58:17.738546Z"
    }
   },
   "outputs": [
    {
     "data": {
      "text/plain": [
       "True"
      ]
     },
     "execution_count": 34,
     "metadata": {},
     "output_type": "execute_result"
    }
   ],
   "source": [
    "True>False"
   ]
  },
  {
   "cell_type": "code",
   "execution_count": 35,
   "id": "03a5ec6c",
   "metadata": {
    "ExecuteTime": {
     "end_time": "2022-04-08T16:58:17.754617Z",
     "start_time": "2022-04-08T16:58:17.748311Z"
    }
   },
   "outputs": [
    {
     "data": {
      "text/plain": [
       "False"
      ]
     },
     "execution_count": 35,
     "metadata": {},
     "output_type": "execute_result"
    }
   ],
   "source": [
    "True != 1"
   ]
  },
  {
   "cell_type": "code",
   "execution_count": 36,
   "id": "5aa26e28",
   "metadata": {
    "ExecuteTime": {
     "end_time": "2022-04-08T16:58:17.763780Z",
     "start_time": "2022-04-08T16:58:17.758214Z"
    }
   },
   "outputs": [],
   "source": [
    "my_house = np.array([18.0, 20.0, 10.75, 9.50])\n",
    "your_house = np.array([14.0, 24.0, 14.25, 9.0])"
   ]
  },
  {
   "cell_type": "code",
   "execution_count": 37,
   "id": "5c173ed1",
   "metadata": {
    "ExecuteTime": {
     "end_time": "2022-04-08T16:58:17.774748Z",
     "start_time": "2022-04-08T16:58:17.768025Z"
    }
   },
   "outputs": [
    {
     "data": {
      "text/plain": [
       "array([18.  , 20.  , 10.75,  9.5 ])"
      ]
     },
     "execution_count": 37,
     "metadata": {},
     "output_type": "execute_result"
    }
   ],
   "source": [
    "my_house"
   ]
  },
  {
   "cell_type": "code",
   "execution_count": 38,
   "id": "2d97ce93",
   "metadata": {
    "ExecuteTime": {
     "end_time": "2022-04-08T16:58:17.784622Z",
     "start_time": "2022-04-08T16:58:17.778513Z"
    }
   },
   "outputs": [
    {
     "data": {
      "text/plain": [
       "array([14.  , 24.  , 14.25,  9.  ])"
      ]
     },
     "execution_count": 38,
     "metadata": {},
     "output_type": "execute_result"
    }
   ],
   "source": [
    "your_house"
   ]
  },
  {
   "cell_type": "code",
   "execution_count": 39,
   "id": "efb31af2",
   "metadata": {
    "ExecuteTime": {
     "end_time": "2022-04-08T16:58:17.795719Z",
     "start_time": "2022-04-08T16:58:17.788426Z"
    }
   },
   "outputs": [
    {
     "data": {
      "text/plain": [
       "array([ True,  True, False, False])"
      ]
     },
     "execution_count": 39,
     "metadata": {},
     "output_type": "execute_result"
    }
   ],
   "source": [
    "my_house >= 18"
   ]
  },
  {
   "cell_type": "code",
   "execution_count": 40,
   "id": "cdb3d869",
   "metadata": {
    "ExecuteTime": {
     "end_time": "2022-04-08T16:58:17.809011Z",
     "start_time": "2022-04-08T16:58:17.799042Z"
    }
   },
   "outputs": [
    {
     "data": {
      "text/plain": [
       "array([False,  True,  True, False])"
      ]
     },
     "execution_count": 40,
     "metadata": {},
     "output_type": "execute_result"
    }
   ],
   "source": [
    "my_house <= your_house"
   ]
  },
  {
   "cell_type": "markdown",
   "id": "37ce63dc",
   "metadata": {},
   "source": [
    "## Boolean Operators\n",
    "Like other language in Python also has the three Boolean operators,\n",
    "- AND <br>\n",
    "- OR <br>\n",
    "- NOT <br>\n",
    "\n",
    "If we apply this boolean operators for on the numpy array ti through a ambiguity error. But we have logical function to overcome this situation.\n",
    "\n",
    "- logical_and() <br>\n",
    "- logical_or() <br>\n",
    "- logical_not() <br>\n",
    "\n",
    "syntax: numpy.logial_and(boolean_numpy_array1, boolean_numpy_array2)"
   ]
  },
  {
   "cell_type": "code",
   "execution_count": 41,
   "id": "a6f4eeb6",
   "metadata": {
    "ExecuteTime": {
     "end_time": "2022-04-08T16:58:18.368138Z",
     "start_time": "2022-04-08T16:58:17.812018Z"
    }
   },
   "outputs": [
    {
     "ename": "ValueError",
     "evalue": "The truth value of an array with more than one element is ambiguous. Use a.any() or a.all()",
     "output_type": "error",
     "traceback": [
      "\u001b[0;31m---------------------------------------------------------------------------\u001b[0m",
      "\u001b[0;31mValueError\u001b[0m                                Traceback (most recent call last)",
      "Input \u001b[0;32mIn [41]\u001b[0m, in \u001b[0;36m<cell line: 1>\u001b[0;34m()\u001b[0m\n\u001b[0;32m----> 1\u001b[0m my_house \u001b[38;5;241m>\u001b[39m\u001b[38;5;241m=\u001b[39m \u001b[38;5;241m18\u001b[39m \u001b[38;5;129;01mand\u001b[39;00m your_house \u001b[38;5;241m>\u001b[39m\u001b[38;5;241m=\u001b[39m \u001b[38;5;241m18\u001b[39m\n",
      "\u001b[0;31mValueError\u001b[0m: The truth value of an array with more than one element is ambiguous. Use a.any() or a.all()"
     ]
    }
   ],
   "source": [
    "my_house >= 18 and your_house >= 18\n"
   ]
  },
  {
   "cell_type": "code",
   "execution_count": 42,
   "id": "1c1bfe35",
   "metadata": {
    "ExecuteTime": {
     "end_time": "2022-04-08T16:58:48.817243Z",
     "start_time": "2022-04-08T16:58:48.808970Z"
    }
   },
   "outputs": [
    {
     "data": {
      "text/plain": [
       "array([False,  True, False, False])"
      ]
     },
     "execution_count": 42,
     "metadata": {},
     "output_type": "execute_result"
    }
   ],
   "source": [
    "np.logical_and(my_house >= 18,your_house >= 18)"
   ]
  },
  {
   "cell_type": "code",
   "execution_count": 45,
   "id": "dc5e9b70",
   "metadata": {
    "ExecuteTime": {
     "end_time": "2022-04-08T17:11:49.372778Z",
     "start_time": "2022-04-08T17:11:49.364653Z"
    }
   },
   "outputs": [
    {
     "data": {
      "text/plain": [
       "array([20.])"
      ]
     },
     "execution_count": 45,
     "metadata": {},
     "output_type": "execute_result"
    }
   ],
   "source": [
    "my_house[np.logical_and(my_house >= 18,your_house >= 18)]"
   ]
  },
  {
   "cell_type": "markdown",
   "id": "7a33f604",
   "metadata": {},
   "source": [
    "### Control-flow statements\n",
    "\n",
    "-if<br>\n",
    "-elif<br>\n",
    "-else<br>\n",
    "\n",
    "Syntax: <br> <br>if statement:<br>  if condition: <br> expresson<br>\n",
    "           <br> <br>\n",
    "            else statement:<br>  if condition: <br> expresson<br> else: <br> expression\n",
    "           <br> <br>\n",
    "            elif statement:<br>  if condition: <br> expression<br>elif condition: <br> ...<br> else: <br> expression\n",
    "            <br>"
   ]
  },
  {
   "cell_type": "code",
   "execution_count": 46,
   "id": "97f9664b",
   "metadata": {
    "ExecuteTime": {
     "end_time": "2022-04-08T17:28:56.642890Z",
     "start_time": "2022-04-08T17:28:56.636909Z"
    }
   },
   "outputs": [],
   "source": [
    "room = \"kit\"\n",
    "area = 14.0\n",
    "\n"
   ]
  },
  {
   "cell_type": "code",
   "execution_count": 47,
   "id": "295d1e11",
   "metadata": {
    "ExecuteTime": {
     "end_time": "2022-04-08T17:29:09.577537Z",
     "start_time": "2022-04-08T17:29:09.571959Z"
    }
   },
   "outputs": [
    {
     "name": "stdout",
     "output_type": "stream",
     "text": [
      "looking around in the kitchen.\n"
     ]
    }
   ],
   "source": [
    "# if statement for room\n",
    "if room == \"kit\" :\n",
    "    print(\"looking around in the kitchen.\")\n",
    "\n"
   ]
  },
  {
   "cell_type": "code",
   "execution_count": 48,
   "id": "86167639",
   "metadata": {
    "ExecuteTime": {
     "end_time": "2022-04-08T17:31:49.872352Z",
     "start_time": "2022-04-08T17:31:49.867066Z"
    }
   },
   "outputs": [],
   "source": [
    "# if statement for area\n",
    "if area > 15:\n",
    "    print(\"big place!\")"
   ]
  },
  {
   "cell_type": "code",
   "execution_count": 50,
   "id": "99b4504e",
   "metadata": {
    "ExecuteTime": {
     "end_time": "2022-04-08T17:35:41.735199Z",
     "start_time": "2022-04-08T17:35:41.727306Z"
    }
   },
   "outputs": [
    {
     "name": "stdout",
     "output_type": "stream",
     "text": [
      "looking around in the kitchen.\n",
      "pretty small.\n"
     ]
    }
   ],
   "source": [
    "# Define variables\n",
    "room = \"kit\"\n",
    "area = 14.0\n",
    "\n",
    "# if-else construct for room\n",
    "if room == \"kit\" :\n",
    "    print(\"looking around in the kitchen.\")\n",
    "else :\n",
    "    print(\"looking around elsewhere.\")\n",
    "\n",
    "# if-else construct for area\n",
    "if area > 15 :\n",
    "    print(\"big place!\")\n",
    "else :\n",
    "    print(\"pretty small.\")"
   ]
  },
  {
   "cell_type": "code",
   "execution_count": 51,
   "id": "61c5aa2f",
   "metadata": {
    "ExecuteTime": {
     "end_time": "2022-04-08T17:38:17.482385Z",
     "start_time": "2022-04-08T17:38:17.475200Z"
    }
   },
   "outputs": [
    {
     "name": "stdout",
     "output_type": "stream",
     "text": [
      "looking around in the bedroom.\n",
      "medium size, nice!\n"
     ]
    }
   ],
   "source": [
    "# Define variables\n",
    "room = \"bed\"\n",
    "area = 14.0\n",
    "\n",
    "# if-elif-else construct for room\n",
    "if room == \"kit\" :\n",
    "    print(\"looking around in the kitchen.\")\n",
    "elif room == \"bed\":\n",
    "    print(\"looking around in the bedroom.\")\n",
    "else :\n",
    "    print(\"looking around elsewhere.\")\n",
    "\n",
    "# if-elif-else construct for area\n",
    "if area > 15 :\n",
    "    print(\"big place!\")\n",
    "elif area > 10 :\n",
    "    print(\"medium size, nice!\")\n",
    "else :\n",
    "    print(\"pretty small.\")"
   ]
  },
  {
   "cell_type": "markdown",
   "id": "68083a2d",
   "metadata": {},
   "source": [
    "## Filtering pandas dataframes"
   ]
  },
  {
   "cell_type": "code",
   "execution_count": 54,
   "id": "862e0aae",
   "metadata": {
    "ExecuteTime": {
     "end_time": "2022-04-08T17:52:33.767928Z",
     "start_time": "2022-04-08T17:52:33.754266Z"
    }
   },
   "outputs": [
    {
     "data": {
      "text/html": [
       "<div>\n",
       "<style scoped>\n",
       "    .dataframe tbody tr th:only-of-type {\n",
       "        vertical-align: middle;\n",
       "    }\n",
       "\n",
       "    .dataframe tbody tr th {\n",
       "        vertical-align: top;\n",
       "    }\n",
       "\n",
       "    .dataframe thead th {\n",
       "        text-align: right;\n",
       "    }\n",
       "</style>\n",
       "<table border=\"1\" class=\"dataframe\">\n",
       "  <thead>\n",
       "    <tr style=\"text-align: right;\">\n",
       "      <th></th>\n",
       "      <th>Country</th>\n",
       "      <th>dr</th>\n",
       "      <th>cpc</th>\n",
       "    </tr>\n",
       "  </thead>\n",
       "  <tbody>\n",
       "    <tr>\n",
       "      <th>US</th>\n",
       "      <td>United States</td>\n",
       "      <td>True</td>\n",
       "      <td>809</td>\n",
       "    </tr>\n",
       "    <tr>\n",
       "      <th>AUS</th>\n",
       "      <td>Australia</td>\n",
       "      <td>False</td>\n",
       "      <td>731</td>\n",
       "    </tr>\n",
       "    <tr>\n",
       "      <th>JPN</th>\n",
       "      <td>Japan</td>\n",
       "      <td>False</td>\n",
       "      <td>588</td>\n",
       "    </tr>\n",
       "    <tr>\n",
       "      <th>IN</th>\n",
       "      <td>India</td>\n",
       "      <td>False</td>\n",
       "      <td>18</td>\n",
       "    </tr>\n",
       "    <tr>\n",
       "      <th>RU</th>\n",
       "      <td>Russia</td>\n",
       "      <td>True</td>\n",
       "      <td>200</td>\n",
       "    </tr>\n",
       "    <tr>\n",
       "      <th>MOR</th>\n",
       "      <td>Morocco</td>\n",
       "      <td>True</td>\n",
       "      <td>70</td>\n",
       "    </tr>\n",
       "    <tr>\n",
       "      <th>EG</th>\n",
       "      <td>Egypt</td>\n",
       "      <td>True</td>\n",
       "      <td>45</td>\n",
       "    </tr>\n",
       "  </tbody>\n",
       "</table>\n",
       "</div>"
      ],
      "text/plain": [
       "           Country     dr  cpc\n",
       "US   United States   True  809\n",
       "AUS      Australia  False  731\n",
       "JPN          Japan  False  588\n",
       "IN           India  False   18\n",
       "RU          Russia   True  200\n",
       "MOR        Morocco   True   70\n",
       "EG           Egypt   True   45"
      ]
     },
     "execution_count": 54,
     "metadata": {},
     "output_type": "execute_result"
    }
   ],
   "source": [
    "# Import cars data\n",
    "import pandas as pd\n",
    "cars = pd.read_csv('cars.csv', index_col = 0)\n",
    "cars\n"
   ]
  },
  {
   "cell_type": "code",
   "execution_count": 56,
   "id": "c83a5ea1",
   "metadata": {
    "ExecuteTime": {
     "end_time": "2022-04-08T17:53:21.340787Z",
     "start_time": "2022-04-08T17:53:21.333043Z"
    }
   },
   "outputs": [
    {
     "data": {
      "text/plain": [
       "US      True\n",
       "AUS    False\n",
       "JPN    False\n",
       "IN     False\n",
       "RU      True\n",
       "MOR     True\n",
       "EG      True\n",
       "Name: dr, dtype: bool"
      ]
     },
     "execution_count": 56,
     "metadata": {},
     "output_type": "execute_result"
    }
   ],
   "source": [
    "# Extract drives_right column as Series: dr\n",
    "dr = cars['dr']\n",
    "dr"
   ]
  },
  {
   "cell_type": "code",
   "execution_count": 57,
   "id": "340f8414",
   "metadata": {
    "ExecuteTime": {
     "end_time": "2022-04-08T17:53:33.363563Z",
     "start_time": "2022-04-08T17:53:33.353155Z"
    }
   },
   "outputs": [
    {
     "data": {
      "text/html": [
       "<div>\n",
       "<style scoped>\n",
       "    .dataframe tbody tr th:only-of-type {\n",
       "        vertical-align: middle;\n",
       "    }\n",
       "\n",
       "    .dataframe tbody tr th {\n",
       "        vertical-align: top;\n",
       "    }\n",
       "\n",
       "    .dataframe thead th {\n",
       "        text-align: right;\n",
       "    }\n",
       "</style>\n",
       "<table border=\"1\" class=\"dataframe\">\n",
       "  <thead>\n",
       "    <tr style=\"text-align: right;\">\n",
       "      <th></th>\n",
       "      <th>Country</th>\n",
       "      <th>dr</th>\n",
       "      <th>cpc</th>\n",
       "    </tr>\n",
       "  </thead>\n",
       "  <tbody>\n",
       "    <tr>\n",
       "      <th>US</th>\n",
       "      <td>United States</td>\n",
       "      <td>True</td>\n",
       "      <td>809</td>\n",
       "    </tr>\n",
       "    <tr>\n",
       "      <th>RU</th>\n",
       "      <td>Russia</td>\n",
       "      <td>True</td>\n",
       "      <td>200</td>\n",
       "    </tr>\n",
       "    <tr>\n",
       "      <th>MOR</th>\n",
       "      <td>Morocco</td>\n",
       "      <td>True</td>\n",
       "      <td>70</td>\n",
       "    </tr>\n",
       "    <tr>\n",
       "      <th>EG</th>\n",
       "      <td>Egypt</td>\n",
       "      <td>True</td>\n",
       "      <td>45</td>\n",
       "    </tr>\n",
       "  </tbody>\n",
       "</table>\n",
       "</div>"
      ],
      "text/plain": [
       "           Country    dr  cpc\n",
       "US   United States  True  809\n",
       "RU          Russia  True  200\n",
       "MOR        Morocco  True   70\n",
       "EG           Egypt  True   45"
      ]
     },
     "execution_count": 57,
     "metadata": {},
     "output_type": "execute_result"
    }
   ],
   "source": [
    "# Use dr to subset cars: sel\n",
    "sel = cars[dr]\n",
    "sel"
   ]
  },
  {
   "cell_type": "code",
   "execution_count": 58,
   "id": "aba2d310",
   "metadata": {
    "ExecuteTime": {
     "end_time": "2022-04-08T17:54:01.669332Z",
     "start_time": "2022-04-08T17:54:01.662764Z"
    }
   },
   "outputs": [
    {
     "name": "stdout",
     "output_type": "stream",
     "text": [
      "           Country    dr  cpc\n",
      "US   United States  True  809\n",
      "RU          Russia  True  200\n",
      "MOR        Morocco  True   70\n",
      "EG           Egypt  True   45\n"
     ]
    }
   ],
   "source": [
    "# Print sel\n",
    "print(sel)"
   ]
  },
  {
   "cell_type": "code",
   "execution_count": 59,
   "id": "8fc9cd6e",
   "metadata": {
    "ExecuteTime": {
     "end_time": "2022-04-08T17:55:50.829948Z",
     "start_time": "2022-04-08T17:55:50.825382Z"
    }
   },
   "outputs": [],
   "source": [
    "sel = cars[cars['dr']]"
   ]
  },
  {
   "cell_type": "code",
   "execution_count": 60,
   "id": "3fb5fbab",
   "metadata": {
    "ExecuteTime": {
     "end_time": "2022-04-08T17:55:55.904852Z",
     "start_time": "2022-04-08T17:55:55.893138Z"
    }
   },
   "outputs": [
    {
     "data": {
      "text/html": [
       "<div>\n",
       "<style scoped>\n",
       "    .dataframe tbody tr th:only-of-type {\n",
       "        vertical-align: middle;\n",
       "    }\n",
       "\n",
       "    .dataframe tbody tr th {\n",
       "        vertical-align: top;\n",
       "    }\n",
       "\n",
       "    .dataframe thead th {\n",
       "        text-align: right;\n",
       "    }\n",
       "</style>\n",
       "<table border=\"1\" class=\"dataframe\">\n",
       "  <thead>\n",
       "    <tr style=\"text-align: right;\">\n",
       "      <th></th>\n",
       "      <th>Country</th>\n",
       "      <th>dr</th>\n",
       "      <th>cpc</th>\n",
       "    </tr>\n",
       "  </thead>\n",
       "  <tbody>\n",
       "    <tr>\n",
       "      <th>US</th>\n",
       "      <td>United States</td>\n",
       "      <td>True</td>\n",
       "      <td>809</td>\n",
       "    </tr>\n",
       "    <tr>\n",
       "      <th>RU</th>\n",
       "      <td>Russia</td>\n",
       "      <td>True</td>\n",
       "      <td>200</td>\n",
       "    </tr>\n",
       "    <tr>\n",
       "      <th>MOR</th>\n",
       "      <td>Morocco</td>\n",
       "      <td>True</td>\n",
       "      <td>70</td>\n",
       "    </tr>\n",
       "    <tr>\n",
       "      <th>EG</th>\n",
       "      <td>Egypt</td>\n",
       "      <td>True</td>\n",
       "      <td>45</td>\n",
       "    </tr>\n",
       "  </tbody>\n",
       "</table>\n",
       "</div>"
      ],
      "text/plain": [
       "           Country    dr  cpc\n",
       "US   United States  True  809\n",
       "RU          Russia  True  200\n",
       "MOR        Morocco  True   70\n",
       "EG           Egypt  True   45"
      ]
     },
     "execution_count": 60,
     "metadata": {},
     "output_type": "execute_result"
    }
   ],
   "source": [
    "sel"
   ]
  },
  {
   "cell_type": "code",
   "execution_count": 61,
   "id": "18ab9977",
   "metadata": {
    "ExecuteTime": {
     "end_time": "2022-04-08T18:11:19.447115Z",
     "start_time": "2022-04-08T18:11:19.429686Z"
    }
   },
   "outputs": [
    {
     "name": "stdout",
     "output_type": "stream",
     "text": [
      "           Country     dr  cpc\n",
      "US   United States   True  809\n",
      "AUS      Australia  False  731\n",
      "JPN          Japan  False  588\n"
     ]
    }
   ],
   "source": [
    "cpc = cars['cpc']\n",
    "#print(cpc)\n",
    "many_cars = cpc>500\n",
    "#print(many_cars)\n",
    "\n",
    "car_maniac = cars[many_cars]\n",
    "\n",
    "# Print car_maniac\n",
    "print(car_maniac)"
   ]
  },
  {
   "cell_type": "code",
   "execution_count": 63,
   "id": "dd91b266",
   "metadata": {
    "ExecuteTime": {
     "end_time": "2022-04-08T18:14:47.087443Z",
     "start_time": "2022-04-08T18:14:47.077412Z"
    }
   },
   "outputs": [
    {
     "name": "stdout",
     "output_type": "stream",
     "text": [
      "   Country    dr  cpc\n",
      "RU  Russia  True  200\n"
     ]
    }
   ],
   "source": [
    "# Create medium: observations with cars_per_cap between 100 and 500\n",
    "cpc = cars['cpc']\n",
    "between = np.logical_and(cpc > 100, cpc <  500)\n",
    "medium = cars[between]\n",
    "\n",
    "\n",
    "\n",
    "# Print medium\n",
    "print(medium)"
   ]
  },
  {
   "cell_type": "markdown",
   "id": "1d1363bf",
   "metadata": {},
   "source": [
    "## While loop\n",
    "\n",
    "Syntax: <br>\n",
    "\n",
    "While condition: <br>\n",
    "expression"
   ]
  },
  {
   "cell_type": "code",
   "execution_count": 64,
   "id": "e7663a04",
   "metadata": {
    "ExecuteTime": {
     "end_time": "2022-04-08T18:31:06.247520Z",
     "start_time": "2022-04-08T18:31:06.235940Z"
    }
   },
   "outputs": [
    {
     "name": "stdout",
     "output_type": "stream",
     "text": [
      "correcting...\n",
      "7\n",
      "correcting...\n",
      "6\n",
      "correcting...\n",
      "5\n",
      "correcting...\n",
      "4\n",
      "correcting...\n",
      "3\n",
      "correcting...\n",
      "2\n",
      "correcting...\n",
      "1\n",
      "correcting...\n",
      "0\n"
     ]
    }
   ],
   "source": [
    "# Initialize offset\n",
    "offset = 8\n",
    "\n",
    "# Code the while loop\n",
    "while offset != 0:\n",
    "    print(\"correcting...\")\n",
    "    offset = offset - 1\n",
    "    print(offset)"
   ]
  },
  {
   "cell_type": "code",
   "execution_count": 65,
   "id": "1e02cb3e",
   "metadata": {
    "ExecuteTime": {
     "end_time": "2022-04-08T18:34:30.568799Z",
     "start_time": "2022-04-08T18:34:30.560566Z"
    }
   },
   "outputs": [
    {
     "name": "stdout",
     "output_type": "stream",
     "text": [
      "correcting...\n",
      "-5\n",
      "correcting...\n",
      "-4\n",
      "correcting...\n",
      "-3\n",
      "correcting...\n",
      "-2\n",
      "correcting...\n",
      "-1\n",
      "correcting...\n",
      "0\n"
     ]
    }
   ],
   "source": [
    "# Initialize offset\n",
    "offset = -6\n",
    "\n",
    "# Code the while loop\n",
    "while offset != 0 :\n",
    "    print(\"correcting...\")\n",
    "    if offset > 0 :\n",
    "      offset = offset-1\n",
    "    else : \n",
    "      offset = offset + 1    \n",
    "    print(offset)"
   ]
  },
  {
   "cell_type": "markdown",
   "id": "c8d32461",
   "metadata": {},
   "source": [
    "## For loop\n",
    "Syntax: <br>\n",
    "\n",
    "for var in sequence: <br>\n",
    "expression"
   ]
  },
  {
   "cell_type": "code",
   "execution_count": 66,
   "id": "d308ce8f",
   "metadata": {
    "ExecuteTime": {
     "end_time": "2022-04-08T19:35:10.066100Z",
     "start_time": "2022-04-08T19:35:10.058435Z"
    }
   },
   "outputs": [
    {
     "name": "stdout",
     "output_type": "stream",
     "text": [
      "room 0: 11.25\n",
      "room 1: 18.0\n",
      "room 2: 20.0\n",
      "room 3: 10.75\n",
      "room 4: 9.5\n"
     ]
    }
   ],
   "source": [
    "# areas list\n",
    "areas = [11.25, 18.0, 20.0, 10.75, 9.50]\n",
    "\n",
    "# Change for loop to use enumerate() and update print()\n",
    "for index, a in enumerate(areas) :\n",
    "    print(\"room \" + str(index) + \": \" + str(a))"
   ]
  },
  {
   "cell_type": "code",
   "execution_count": 67,
   "id": "efff4a21",
   "metadata": {
    "ExecuteTime": {
     "end_time": "2022-04-08T19:36:33.448777Z",
     "start_time": "2022-04-08T19:36:33.443036Z"
    }
   },
   "outputs": [
    {
     "name": "stdout",
     "output_type": "stream",
     "text": [
      "room 1: 11.25\n",
      "room 2: 18.0\n",
      "room 3: 20.0\n",
      "room 4: 10.75\n",
      "room 5: 9.5\n"
     ]
    }
   ],
   "source": [
    "# areas list\n",
    "areas = [11.25, 18.0, 20.0, 10.75, 9.50]\n",
    "\n",
    "# Code the for loop\n",
    "for index, area in enumerate(areas) :\n",
    "    print(\"room \" + str(index+1) + \": \" + str(area))"
   ]
  },
  {
   "cell_type": "code",
   "execution_count": 68,
   "id": "33ef3c39",
   "metadata": {
    "ExecuteTime": {
     "end_time": "2022-04-08T19:41:28.453601Z",
     "start_time": "2022-04-08T19:41:28.442765Z"
    }
   },
   "outputs": [
    {
     "name": "stdout",
     "output_type": "stream",
     "text": [
      "hallway 11.25\n",
      "kitchen 18.0\n",
      "living room 20.0\n",
      "bedroom 10.75\n",
      "bathroom 9.5\n"
     ]
    }
   ],
   "source": [
    "# house list of lists\n",
    "house = [[\"hallway\", 11.25], \n",
    "         [\"kitchen\", 18.0], \n",
    "         [\"living room\", 20.0], \n",
    "         [\"bedroom\", 10.75], \n",
    "         [\"bathroom\", 9.50]]\n",
    "         \n",
    "# Build a for loop from scratch\n",
    "for x , y in house:\n",
    "    print(x,y)\n"
   ]
  },
  {
   "cell_type": "code",
   "execution_count": 69,
   "id": "c6968c83",
   "metadata": {
    "ExecuteTime": {
     "end_time": "2022-04-08T19:44:40.082522Z",
     "start_time": "2022-04-08T19:44:40.076991Z"
    }
   },
   "outputs": [
    {
     "name": "stdout",
     "output_type": "stream",
     "text": [
      "the hallway is 11.25 sqm\n",
      "the kitchen is 18.0 sqm\n",
      "the living room is 20.0 sqm\n",
      "the bedroom is 10.75 sqm\n",
      "the bathroom is 9.5 sqm\n"
     ]
    }
   ],
   "source": [
    "for x , y in house:\n",
    "    print(\"the \" + x + \" is \" + str(y) + \" sqm\")"
   ]
  },
  {
   "cell_type": "markdown",
   "id": "81b18a93",
   "metadata": {},
   "source": [
    "### Loop Data structure\n",
    "\n",
    "for Dictionary and numpy array"
   ]
  },
  {
   "cell_type": "code",
   "execution_count": 70,
   "id": "c90f3375",
   "metadata": {
    "ExecuteTime": {
     "end_time": "2022-04-08T20:28:07.564801Z",
     "start_time": "2022-04-08T20:28:07.524531Z"
    }
   },
   "outputs": [
    {
     "name": "stdout",
     "output_type": "stream",
     "text": [
      "the capital of spain is madrid\n",
      "the capital of france is paris\n",
      "the capital of germany is berlin\n",
      "the capital of norway is oslo\n",
      "the capital of italy is rome\n",
      "the capital of poland is warsaw\n",
      "the capital of austria is vienna\n"
     ]
    }
   ],
   "source": [
    "# Definition of dictionary\n",
    "europe = {'spain':'madrid', 'france':'paris', 'germany':'berlin',\n",
    "          'norway':'oslo', 'italy':'rome', 'poland':'warsaw', 'austria':'vienna' }\n",
    "          \n",
    "# Iterate over europe\n",
    "for key, value in europe.items():\n",
    "    print(\"the capital of \" + key + \" is \" + value)"
   ]
  },
  {
   "cell_type": "markdown",
   "id": "13f50632",
   "metadata": {},
   "source": [
    "### For loop for the dataframe\n",
    "\n",
    "- dataframe.iterrows()"
   ]
  },
  {
   "cell_type": "code",
   "execution_count": 71,
   "id": "5c566b90",
   "metadata": {
    "ExecuteTime": {
     "end_time": "2022-04-08T22:46:25.101847Z",
     "start_time": "2022-04-08T22:46:24.984366Z"
    }
   },
   "outputs": [
    {
     "name": "stdout",
     "output_type": "stream",
     "text": [
      "US\n",
      "Country    United States\n",
      "dr                  True\n",
      "cpc                  809\n",
      "Name: US, dtype: object\n",
      "AUS\n",
      "Country    Australia\n",
      "dr             False\n",
      "cpc              731\n",
      "Name: AUS, dtype: object\n",
      "JPN\n",
      "Country    Japan\n",
      "dr         False\n",
      "cpc          588\n",
      "Name: JPN, dtype: object\n",
      "IN\n",
      "Country    India\n",
      "dr         False\n",
      "cpc           18\n",
      "Name: IN, dtype: object\n",
      "RU\n",
      "Country    Russia\n",
      "dr           True\n",
      "cpc           200\n",
      "Name: RU, dtype: object\n",
      "MOR\n",
      "Country    Morocco\n",
      "dr            True\n",
      "cpc             70\n",
      "Name: MOR, dtype: object\n",
      "EG\n",
      "Country    Egypt\n",
      "dr          True\n",
      "cpc           45\n",
      "Name: EG, dtype: object\n"
     ]
    }
   ],
   "source": [
    "cars = pd.read_csv('cars.csv', index_col = 0)\n",
    "\n",
    "# Iterate over rows of cars\n",
    "for lab, row in cars.iterrows():\n",
    "    print(lab)\n",
    "    print(row)"
   ]
  },
  {
   "cell_type": "code",
   "execution_count": 73,
   "id": "9e4ba22b",
   "metadata": {
    "ExecuteTime": {
     "end_time": "2022-04-08T22:51:00.007319Z",
     "start_time": "2022-04-08T22:51:00.000107Z"
    }
   },
   "outputs": [
    {
     "name": "stdout",
     "output_type": "stream",
     "text": [
      "US: 809\n",
      "AUS: 731\n",
      "JPN: 588\n",
      "IN: 18\n",
      "RU: 200\n",
      "MOR: 70\n",
      "EG: 45\n"
     ]
    }
   ],
   "source": [
    "# Adapt for loop\n",
    "for lab, row in cars.iterrows() :\n",
    "    print(lab+\": \"+ str(row[\"cpc\"]))"
   ]
  },
  {
   "cell_type": "code",
   "execution_count": 76,
   "id": "97e87fd2",
   "metadata": {
    "ExecuteTime": {
     "end_time": "2022-04-08T22:57:20.724015Z",
     "start_time": "2022-04-08T22:57:20.708605Z"
    }
   },
   "outputs": [
    {
     "data": {
      "text/html": [
       "<div>\n",
       "<style scoped>\n",
       "    .dataframe tbody tr th:only-of-type {\n",
       "        vertical-align: middle;\n",
       "    }\n",
       "\n",
       "    .dataframe tbody tr th {\n",
       "        vertical-align: top;\n",
       "    }\n",
       "\n",
       "    .dataframe thead th {\n",
       "        text-align: right;\n",
       "    }\n",
       "</style>\n",
       "<table border=\"1\" class=\"dataframe\">\n",
       "  <thead>\n",
       "    <tr style=\"text-align: right;\">\n",
       "      <th></th>\n",
       "      <th>Country</th>\n",
       "      <th>dr</th>\n",
       "      <th>cpc</th>\n",
       "    </tr>\n",
       "  </thead>\n",
       "  <tbody>\n",
       "    <tr>\n",
       "      <th>US</th>\n",
       "      <td>United States</td>\n",
       "      <td>True</td>\n",
       "      <td>809</td>\n",
       "    </tr>\n",
       "    <tr>\n",
       "      <th>AUS</th>\n",
       "      <td>Australia</td>\n",
       "      <td>False</td>\n",
       "      <td>731</td>\n",
       "    </tr>\n",
       "    <tr>\n",
       "      <th>JPN</th>\n",
       "      <td>Japan</td>\n",
       "      <td>False</td>\n",
       "      <td>588</td>\n",
       "    </tr>\n",
       "    <tr>\n",
       "      <th>IN</th>\n",
       "      <td>India</td>\n",
       "      <td>False</td>\n",
       "      <td>18</td>\n",
       "    </tr>\n",
       "    <tr>\n",
       "      <th>RU</th>\n",
       "      <td>Russia</td>\n",
       "      <td>True</td>\n",
       "      <td>200</td>\n",
       "    </tr>\n",
       "    <tr>\n",
       "      <th>MOR</th>\n",
       "      <td>Morocco</td>\n",
       "      <td>True</td>\n",
       "      <td>70</td>\n",
       "    </tr>\n",
       "    <tr>\n",
       "      <th>EG</th>\n",
       "      <td>Egypt</td>\n",
       "      <td>True</td>\n",
       "      <td>45</td>\n",
       "    </tr>\n",
       "  </tbody>\n",
       "</table>\n",
       "</div>"
      ],
      "text/plain": [
       "           Country     dr  cpc\n",
       "US   United States   True  809\n",
       "AUS      Australia  False  731\n",
       "JPN          Japan  False  588\n",
       "IN           India  False   18\n",
       "RU          Russia   True  200\n",
       "MOR        Morocco   True   70\n",
       "EG           Egypt   True   45"
      ]
     },
     "execution_count": 76,
     "metadata": {},
     "output_type": "execute_result"
    }
   ],
   "source": [
    "cars"
   ]
  },
  {
   "cell_type": "code",
   "execution_count": 77,
   "id": "62d3751d",
   "metadata": {
    "ExecuteTime": {
     "end_time": "2022-04-08T22:57:34.456160Z",
     "start_time": "2022-04-08T22:57:34.446022Z"
    }
   },
   "outputs": [
    {
     "name": "stdout",
     "output_type": "stream",
     "text": [
      "           Country     dr  cpc        COUNTRY\n",
      "US   United States   True  809  UNITED STATES\n",
      "AUS      Australia  False  731      AUSTRALIA\n",
      "JPN          Japan  False  588          JAPAN\n",
      "IN           India  False   18          INDIA\n",
      "RU          Russia   True  200         RUSSIA\n",
      "MOR        Morocco   True   70        MOROCCO\n",
      "EG           Egypt   True   45          EGYPT\n"
     ]
    }
   ],
   "source": [
    "# Code for loop that adds COUNTRY column\n",
    "for lab, row in cars.iterrows():\n",
    "    cars.loc[lab,\"COUNTRY\"] = row[\"Country\"].upper()\n",
    "\n",
    "\n",
    "# Print cars\n",
    "print(cars)"
   ]
  },
  {
   "cell_type": "code",
   "execution_count": 78,
   "id": "fc30392d",
   "metadata": {
    "ExecuteTime": {
     "end_time": "2022-04-08T23:01:13.067976Z",
     "start_time": "2022-04-08T23:01:13.056677Z"
    }
   },
   "outputs": [
    {
     "name": "stdout",
     "output_type": "stream",
     "text": [
      "           Country     dr  cpc        COUNTRY\n",
      "US   United States   True  809  UNITED STATES\n",
      "AUS      Australia  False  731      AUSTRALIA\n",
      "JPN          Japan  False  588          JAPAN\n",
      "IN           India  False   18          INDIA\n",
      "RU          Russia   True  200         RUSSIA\n",
      "MOR        Morocco   True   70        MOROCCO\n",
      "EG           Egypt   True   45          EGYPT\n"
     ]
    }
   ],
   "source": [
    "# Use .apply(str.upper)\n",
    "#for lab, row in cars.iterrows() :\n",
    "#    cars.loc[lab, \"COUNTRY\"] = row[\"country\"].upper()\n",
    "cars[\"COUNTRY\"] = cars[\"Country\"].apply(str.upper)\n",
    "print(cars)"
   ]
  },
  {
   "cell_type": "markdown",
   "id": "dd92ccb7",
   "metadata": {},
   "source": [
    "## Random numbers\n",
    "the sub packege random of numpy has method like below use to create random number calculate probability or used in statistic calculation.\n",
    "- seed()<br>\n",
    "- rand()<br>\n",
    "- randint()"
   ]
  },
  {
   "cell_type": "code",
   "execution_count": 79,
   "id": "73c1bea8",
   "metadata": {
    "ExecuteTime": {
     "end_time": "2022-04-08T23:24:35.847836Z",
     "start_time": "2022-04-08T23:24:35.840339Z"
    }
   },
   "outputs": [
    {
     "name": "stdout",
     "output_type": "stream",
     "text": [
      "0.6964691855978616\n"
     ]
    }
   ],
   "source": [
    "# Set the seed\n",
    "np.random.seed(123)\n",
    "\n",
    "# Generate and print random float\n",
    "print(np.random.rand())"
   ]
  },
  {
   "cell_type": "code",
   "execution_count": 80,
   "id": "654d28eb",
   "metadata": {
    "ExecuteTime": {
     "end_time": "2022-04-08T23:27:11.968792Z",
     "start_time": "2022-04-08T23:27:11.961758Z"
    }
   },
   "outputs": [
    {
     "name": "stdout",
     "output_type": "stream",
     "text": [
      "6\n",
      "3\n"
     ]
    }
   ],
   "source": [
    "np.random.seed(123)\n",
    "\n",
    "# Use randint() to simulate a dice\n",
    "print(np.random.randint(1,7))\n",
    "\n",
    "# Use randint() again\n",
    "print(np.random.randint(1,7))"
   ]
  },
  {
   "cell_type": "code",
   "execution_count": 81,
   "id": "af27f9b1",
   "metadata": {
    "ExecuteTime": {
     "end_time": "2022-04-08T23:33:28.787944Z",
     "start_time": "2022-04-08T23:33:28.779603Z"
    }
   },
   "outputs": [
    {
     "name": "stdout",
     "output_type": "stream",
     "text": [
      "5\n",
      "51\n"
     ]
    }
   ],
   "source": [
    "# Starting step\n",
    "step = 50\n",
    "\n",
    "# Roll the dice\n",
    "dice = np.random.randint(1,7)\n",
    "\n",
    "# Finish the control construct\n",
    "if dice <= 2 :\n",
    "    step = step - 1\n",
    "elif dice < 6 and dice > 2 :\n",
    "    step = step + 1\n",
    "else :\n",
    "    step = step + np.random.randint(1,7)\n",
    "\n",
    "# Print out dice and step\n",
    "print(dice)\n",
    "print(step)"
   ]
  },
  {
   "cell_type": "code",
   "execution_count": 85,
   "id": "cb853604",
   "metadata": {
    "ExecuteTime": {
     "end_time": "2022-04-09T00:07:51.239819Z",
     "start_time": "2022-04-09T00:07:51.231764Z"
    }
   },
   "outputs": [
    {
     "name": "stdout",
     "output_type": "stream",
     "text": [
      "[0, 1, 4, 3, 4, 3, 4, 5, 6, 5, 6, 5, 6, 7, 9, 8, 7, 8, 9, 8, 10, 11, 12, 13, 14, 15, 16, 15, 16, 17, 22, 23, 22, 21, 20, 19, 20, 21, 22, 27, 28, 27, 28, 29, 30, 31, 32, 33, 32, 31, 32, 31, 37, 36, 37, 36, 37, 36, 37, 41, 45, 47, 49, 48, 49, 51, 50, 56, 57, 59, 60, 59, 60, 61, 62, 61, 62, 63, 64, 66, 65, 64, 65, 71, 76, 75, 74, 78, 79, 80, 81, 83, 82, 83, 82, 83, 82, 81, 87, 86, 87, 88]\n"
     ]
    }
   ],
   "source": [
    "random_walk = [0]\n",
    "\n",
    "# Complete the ___\n",
    "for x in range(101) :\n",
    "    # Set step: last element in random_walk\n",
    "    step = random_walk[-1]\n",
    "\n",
    "    # Roll the dice\n",
    "    dice = np.random.randint(1,7)\n",
    "\n",
    "    # Determine next step\n",
    "    if dice <= 2:\n",
    "        step = step - 1\n",
    "    elif dice < 6 and dice > 2:\n",
    "        step = step + 1\n",
    "    else:\n",
    "        step = step + np.random.randint(1,7)\n",
    "\n",
    "    # append next_step to random_walk\n",
    "    random_walk.append(step)\n",
    "\n",
    "# Print random_walk\n",
    "print(random_walk)"
   ]
  },
  {
   "cell_type": "code",
   "execution_count": 86,
   "id": "645a2d33",
   "metadata": {
    "ExecuteTime": {
     "end_time": "2022-04-09T00:13:01.545640Z",
     "start_time": "2022-04-09T00:13:01.537191Z"
    }
   },
   "outputs": [
    {
     "name": "stdout",
     "output_type": "stream",
     "text": [
      "[0, 1, 2, 3, 4, 5, 6, 5, 6, 5, 4, 5, 4, 5, 4, 5, 6, 10, 11, 10, 16, 15, 14, 15, 14, 13, 14, 13, 17, 16, 17, 16, 17, 16, 17, 19, 18, 17, 16, 17, 16, 21, 22, 23, 22, 21, 22, 21, 22, 21, 26, 27, 26, 25, 24, 23, 24, 25, 29, 35, 36, 37, 38, 39, 38, 39, 41, 42, 43, 44, 43, 42, 43, 42, 43, 44, 45, 44, 45, 46, 47, 46, 45, 46, 47, 52, 53, 54, 59, 58, 59, 58, 59, 60, 61, 62, 61, 67, 66, 67, 66]\n"
     ]
    }
   ],
   "source": [
    "# Initialize random_walk\n",
    "random_walk = [0]\n",
    "\n",
    "for x in range(100) :\n",
    "    step = random_walk[-1]\n",
    "    dice = np.random.randint(1,7)\n",
    "\n",
    "    if dice <= 2:\n",
    "        # Replace below: use max to make sure step can't go below 0\n",
    "        step = max(0,step - 1)\n",
    "    elif dice <= 5:\n",
    "        step = step + 1\n",
    "    else:\n",
    "        step = step + np.random.randint(1,7)\n",
    "\n",
    "    random_walk.append(step)\n",
    "\n",
    "print(random_walk)"
   ]
  },
  {
   "cell_type": "code",
   "execution_count": 87,
   "id": "eac00cee",
   "metadata": {
    "ExecuteTime": {
     "end_time": "2022-04-09T00:16:44.121076Z",
     "start_time": "2022-04-09T00:16:43.188244Z"
    }
   },
   "outputs": [
    {
     "data": {
      "image/png": "[encoded data removed]",
      "text/plain": [
       "<Figure size 432x288 with 1 Axes>"
      ]
     },
     "metadata": {
      "needs_background": "light"
     },
     "output_type": "display_data"
    }
   ],
   "source": [
    "# Import matplotlib.pyplot as plt\n",
    "import matplotlib.pyplot as plt\n",
    "\n",
    "# Plot random_walk\n",
    "plt.plot(random_walk)\n",
    "\n",
    "# Show the plot\n",
    "plt.show()"
   ]
  },
  {
   "cell_type": "markdown",
   "id": "2070f3d2",
   "metadata": {},
   "source": [
    "### Distribution"
   ]
  },
  {
   "cell_type": "code",
   "execution_count": 88,
   "id": "cf4a8909",
   "metadata": {
    "ExecuteTime": {
     "end_time": "2022-04-09T00:34:47.106767Z",
     "start_time": "2022-04-09T00:34:46.689840Z"
    }
   },
   "outputs": [
    {
     "data": {
      "image/png": "[encoded data removed]",
      "text/plain": [
       "<Figure size 432x288 with 1 Axes>"
      ]
     },
     "metadata": {
      "needs_background": "light"
     },
     "output_type": "display_data"
    },
    {
     "data": {
      "image/png": "[encoded data removed]",
      "text/plain": [
       "<Figure size 432x288 with 1 Axes>"
      ]
     },
     "metadata": {
      "needs_background": "light"
     },
     "output_type": "display_data"
    }
   ],
   "source": [
    "# initialize and populate all_walks\n",
    "all_walks = []\n",
    "for i in range(10) :\n",
    "    random_walk = [0]\n",
    "    for x in range(100) :\n",
    "        step = random_walk[-1]\n",
    "        dice = np.random.randint(1,7)\n",
    "        if dice <= 2:\n",
    "            step = max(0, step - 1)\n",
    "        elif dice <= 5:\n",
    "            step = step + 1\n",
    "        else:\n",
    "            step = step + np.random.randint(1,7)\n",
    "        random_walk.append(step)\n",
    "    all_walks.append(random_walk)\n",
    "\n",
    "# Convert all_walks to NumPy array: np_aw\n",
    "np_aw = np.array(all_walks)\n",
    "\n",
    "# Plot np_aw and show\n",
    "plt.plot(np_aw)\n",
    "plt.show()\n",
    "\n",
    "# Clear the figure\n",
    "plt.clf()\n",
    "\n",
    "# Transpose np_aw: np_aw_t\n",
    "np_aw_t = np_aw.T\n",
    "\n",
    "# Plot np_aw_t and show\n",
    "plt.plot(np_aw_t)\n",
    "plt.show()"
   ]
  },
  {
   "cell_type": "code",
   "execution_count": 89,
   "id": "8d8a9fa1",
   "metadata": {
    "ExecuteTime": {
     "end_time": "2022-04-09T00:40:18.362537Z",
     "start_time": "2022-04-09T00:40:17.980321Z"
    }
   },
   "outputs": [
    {
     "data": {
      "image/png": "[encoded data removed]",
      "text/plain": [
       "<Figure size 432x288 with 1 Axes>"
      ]
     },
     "metadata": {
      "needs_background": "light"
     },
     "output_type": "display_data"
    }
   ],
   "source": [
    "# Simulate random walk 250 times\n",
    "all_walks = []\n",
    "for i in range(250) :\n",
    "    random_walk = [0]\n",
    "    for x in range(100) :\n",
    "        step = random_walk[-1]\n",
    "        dice = np.random.randint(1,7)\n",
    "        if dice <= 2:\n",
    "            step = max(0, step - 1)\n",
    "        elif dice <= 5:\n",
    "            step = step + 1\n",
    "        else:\n",
    "            step = step + np.random.randint(1,7)\n",
    "\n",
    "        # Implement clumsiness\n",
    "        if np.random.rand() <= 0.001:\n",
    "            step = 0\n",
    "\n",
    "        random_walk.append(step)\n",
    "    all_walks.append(random_walk)\n",
    "\n",
    "# Create and plot np_aw_t\n",
    "np_aw_t = np.transpose(np.array(all_walks))\n",
    "plt.plot(np_aw_t)\n",
    "plt.show()"
   ]
  },
  {
   "cell_type": "code",
   "execution_count": 97,
   "id": "35c8b0a9",
   "metadata": {
    "ExecuteTime": {
     "end_time": "2022-04-09T00:54:42.121569Z",
     "start_time": "2022-04-09T00:54:41.839818Z"
    }
   },
   "outputs": [
    {
     "data": {
      "image/png": "[encoded data removed]",
      "text/plain": [
       "<Figure size 432x288 with 1 Axes>"
      ]
     },
     "metadata": {
      "needs_background": "light"
     },
     "output_type": "display_data"
    }
   ],
   "source": [
    "# Simulate random walk 500 times\n",
    "all_walks = []\n",
    "for i in range(500) :\n",
    "    random_walk = [0]\n",
    "    for x in range(100) :\n",
    "        step = random_walk[-1]\n",
    "        dice = np.random.randint(1,7)\n",
    "        if dice <= 2:\n",
    "            step = max(0, step - 1)\n",
    "        elif dice <= 5:\n",
    "            step = step + 1\n",
    "        else:\n",
    "            step = step + np.random.randint(1,7)\n",
    "        if np.random.rand() <= 0.001 :\n",
    "            step = 0\n",
    "        random_walk.append(step)\n",
    "    all_walks.append(random_walk)\n",
    "\n",
    "# Create and plot np_aw_t\n",
    "np_aw_t = np.transpose(np.array(all_walks))\n",
    "\n",
    "# Select last row from np_aw_t: ends\n",
    "ends = np_aw_t[100,:]\n",
    "\n",
    "# Plot histogram of ends, display plot\n",
    "plt.hist(ends)\n",
    "plt.show()"
   ]
  },
  {
   "cell_type": "code",
   "execution_count": 92,
   "id": "fe0f787e",
   "metadata": {
    "ExecuteTime": {
     "end_time": "2022-04-09T00:49:44.583718Z",
     "start_time": "2022-04-09T00:49:44.577586Z"
    }
   },
   "outputs": [
    {
     "data": {
      "text/plain": [
       "(101, 500)"
      ]
     },
     "execution_count": 92,
     "metadata": {},
     "output_type": "execute_result"
    }
   ],
   "source": [
    "np_aw_t.shape"
   ]
  },
  {
   "cell_type": "code",
   "execution_count": 96,
   "id": "c347d944",
   "metadata": {
    "ExecuteTime": {
     "end_time": "2022-04-09T00:53:57.795159Z",
     "start_time": "2022-04-09T00:53:57.788424Z"
    }
   },
   "outputs": [
    {
     "data": {
      "text/plain": [
       "array([95, 94, 55, 71])"
      ]
     },
     "execution_count": 96,
     "metadata": {},
     "output_type": "execute_result"
    }
   ],
   "source": [
    " np_aw_t[100,:]"
   ]
  },
  {
   "cell_type": "markdown",
   "id": "e056f93f",
   "metadata": {},
   "source": [
    "ends"
   ]
  },
  {
   "cell_type": "code",
   "execution_count": 102,
   "id": "2dfa403b",
   "metadata": {
    "ExecuteTime": {
     "end_time": "2022-04-09T01:04:17.950460Z",
     "start_time": "2022-04-09T01:04:17.945816Z"
    }
   },
   "outputs": [],
   "source": [
    "ends_60 = ends[ends>=60]"
   ]
  },
  {
   "cell_type": "code",
   "execution_count": 106,
   "id": "7428cc2b",
   "metadata": {
    "ExecuteTime": {
     "end_time": "2022-04-09T01:08:09.495830Z",
     "start_time": "2022-04-09T01:08:09.488867Z"
    }
   },
   "outputs": [
    {
     "data": {
      "text/plain": [
       "79.0"
      ]
     },
     "execution_count": 106,
     "metadata": {},
     "output_type": "execute_result"
    }
   ],
   "source": [
    "(len(ends_60)/500) * 100"
   ]
  },
  {
   "cell_type": "code",
   "execution_count": null,
   "id": "8fb5ccc1",
   "metadata": {},
   "outputs": [],
   "source": []
  }
 ],
 "metadata": {
  "kernelspec": {
   "display_name": "Python 3 (ipykernel)",
   "language": "python",
   "name": "python3"
  },
  "language_info": {
   "codemirror_mode": {
    "name": "ipython",
    "version": 3
   },
   "file_extension": ".py",
   "mimetype": "text/x-python",
   "name": "python",
   "nbconvert_exporter": "python",
   "pygments_lexer": "ipython3",
   "version": "3.9.7"
  },
  "toc": {
   "base_numbering": 1,
   "nav_menu": {},
   "number_sections": true,
   "sideBar": true,
   "skip_h1_title": false,
   "title_cell": "Table of Contents",
   "title_sidebar": "Contents",
   "toc_cell": false,
   "toc_position": {},
   "toc_section_display": true,
   "toc_window_display": false
  },
  "varInspector": {
   "cols": {
    "lenName": 16,
    "lenType": 16,
    "lenVar": 40
   },
   "kernels_config": {
    "python": {
     "delete_cmd_postfix": "",
     "delete_cmd_prefix": "del ",
     "library": "var_list.py",
     "varRefreshCmd": "print(var_dic_list())"
    },
    "r": {
     "delete_cmd_postfix": ") ",
     "delete_cmd_prefix": "rm(",
     "library": "var_list.r",
     "varRefreshCmd": "cat(var_dic_list()) "
    }
   },
   "types_to_exclude": [
    "module",
    "function",
    "builtin_function_or_method",
    "instance",
    "_Feature"
   ],
   "window_display": false
  }
 },
 "nbformat": 4,
 "nbformat_minor": 5
}
